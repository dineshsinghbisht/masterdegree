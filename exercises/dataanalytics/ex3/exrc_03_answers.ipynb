{
 "cells": [
  {
   "cell_type": "markdown",
   "id": "ebabbbab-c235-4789-a004-14e69d06ec9d",
   "metadata": {
    "tags": []
   },
   "source": [
    "# Data Analytics Fall 2025 &mdash; Exercises 3\n",
    "\n",
    "### Dinesh Bisht\n",
    "\n",
    "Last modified: Tue 30 Sep\n",
    "\n",
    "- Five problems + round 2 peer review\n",
    "- Theme: plotting, statistics, git\n",
    "- Please make both your code and your notebook readable\n",
    "- Keep your originals up to date by running the code cell below:"
   ]
  },
  {
   "cell_type": "code",
   "execution_count": null,
   "id": "cde89ee5-64f7-4289-8065-d36dfc25c58d",
   "metadata": {},
   "outputs": [],
   "source": [
    "import os\n",
    "os.system('/bin/bash /home/varpha/dan/config.sh');"
   ]
  },
  {
   "cell_type": "markdown",
   "id": "a8ce4ab1-02a1-46cc-9342-45d12bcfa69b",
   "metadata": {},
   "source": [
    "## Greetings from Harri\n",
    "\n",
    "You don't need to lose your goodnight sleep because of problem 5. I just left the AI-generated stuff (part c) there, and it can look frightening... But you should concentrate on the very first sentence of the problem: *\"Your task is...\"*. I'm genuinely interested in the answers, and I don't know them well beforehand myself!"
   ]
  },
  {
   "cell_type": "markdown",
   "id": "d43c4589-1f0a-444e-b889-ab087c10dc96",
   "metadata": {},
   "source": [
    "## How to submit my solutions?\n",
    "\n",
    "Open a Terminal tab (e.g. <tt>File $\\rightarrow$ New $\\rightarrow$ Terminal</tt>, copy-paste the following into the Terminal command prompt, and press enter:\n",
    "<pre>\n",
    "  /home/varpha/dan/menu.py\n",
    "</pre>"
   ]
  },
  {
   "cell_type": "markdown",
   "id": "2722411d-45e4-4faa-bafa-06aa0d4bf31b",
   "metadata": {},
   "source": [
    "## Round 2 peer review\n",
    "\n",
    "Similar to Round 1 peer review! See exercises 2. By now you should more or less know how to do this. :) See Tue Sep 30 recording / ask your fellow students."
   ]
  },
  {
   "cell_type": "markdown",
   "id": "5b9293a6",
   "metadata": {},
   "source": [
    "### Use of AI in this exercise\n",
    "Almost everything is pretty new to me so I leveraged AI to:\n",
    "- Learn new concepts related to tasks\n",
    "- Brainstorm solutions\n",
    "- Generate and adapt sample code to solve the problems"
   ]
  },
  {
   "cell_type": "markdown",
   "id": "ac0dd1dc-cb99-4b94-9556-7faf37cfdf9c",
   "metadata": {},
   "source": [
    "\n",
    "## Problem 1. Gitlab (part 1/2)\n",
    "\n",
    "a) Please create a private [LabraNet GitLab](https://gitlab.labranet.jamk.fi) project named `data-analytics-fall-2025` for this course.\n",
    "\n",
    "  + See e.g. [these instructions](https://docs.gitlab.com/ee/user/project/).\n",
    "\n",
    "  > <span style=\"font-size:0.8em;\"><b>A clarification:</b> There is the public GitLab (gitlab.com) server available for anyone, and then we have our own LabraNet GitLab server available for LabraNet users. The public one sometimes has better documentation.</span>\n",
    "\n",
    "\n",
    "b) \n",
    "   + Add user `x1234` (@x12341) as a **maintainer** for your project.\n",
    "   + (Only maintainers can push to main branch. This gives Harri the possibility to modify your project if needed.)\n",
    "   + See e.g. [these instructions](https://docs.gitlab.com/ee/user/project/members/#add-users-to-a-project).\n",
    "\n",
    "Harri will let you know how it went in a Teams thread. Easy one point for all!\n",
    "\n",
    "**Why** are we doing this:\n",
    "   - It's good to get acquainted with a <tt>git</tt> instance (such as GitLab). Nowadays it's a standard in data science (among many other fields).\n",
    "   - It's good to have a backup system available, in case the hub or vpn or something fails at a critical moment.\n",
    "   - More details in our Teams sessions and our Theory notes!\n"
   ]
  },
  {
   "cell_type": "markdown",
   "id": "6fc2026a",
   "metadata": {},
   "source": [
    "### Solution 1\n",
    "Perfored the metioned tasks on [LabraNet GitLab](https://gitlab.labranet.jamk.fi)\n",
    " - Created private project named `data-analytics-fall-2025`\n",
    " - Addd user `x1234` (@x12341) as a **maintainer** for your project."
   ]
  },
  {
   "cell_type": "markdown",
   "id": "33bf511d-2bff-4d3b-8cd3-2231732df527",
   "metadata": {},
   "source": [
    "## Problem 2. Simulation.\n",
    "\n",
    "A seminar runs a regular session with 8 spots on it.\n",
    "The probability that a participant turns up for the session is 0.96.\n",
    "What is the smallest number of spots that the seminar should sell to ensure\n",
    "that the probability that the session is full (i.e. 8 or more participants turn up)\n",
    "is bigger than 0.97? Write some simulation code to establish your answer.\n"
   ]
  },
  {
   "cell_type": "markdown",
   "id": "0f9c0ce5-9a5a-4f64-bbad-79dcb5960f6e",
   "metadata": {},
   "source": [
    "\n",
    "## Problem 3. Matplotlib & Seaborn study report\n",
    "\n",
    "Please spend about 60 to 90 minutes of effective time studying:\n",
    "\n",
    "- [Mika's material about plotting](https://dan-spring2024-varpha-88169c3779a1710ff05907c99be44ae1d38051dc7.pages.labranet.jamk.fi/Materials/12-Datan_visualisointi_eng/)\n",
    "- [This article](https://medium.com/towards-data-science/demystifying-matplotlib-3895ab229a63), found in <tt>dan/public/exrc_03</tt> too.\n",
    "\n",
    "Then apply what you've learned in the next two problems. Write a separate problem 3 answer about your experiences in studying and learning."
   ]
  },
  {
   "cell_type": "markdown",
   "id": "b9f26dbb",
   "metadata": {},
   "source": [
    "### Solution 3\n",
    "I had no prior knowledge or experience with Matplotlib and Seaborn before starting this exercise. The provided Mika's material helped me to understand the basics of creating and customizing different types of plots mainly using Matplotlib. By following the examples and sample codes, I learned how to use these libraries to visualize data more effectively. Overall it was a good learning experience and I will use the this knowlege into my next problem **Problem 4. Correlation & scatterplot**"
   ]
  },
  {
   "cell_type": "markdown",
   "id": "2afe4d8d-c0fc-43f7-b336-3fc95dd0dd76",
   "metadata": {},
   "source": [
    "\n",
    "## Problem 4. Correlation & scatterplot\n",
    "[This file](https://student.labranet.jamk.fi/~varpha/data_analytics/exrc03p01_bicycles.txt) has data on available public city bicycles in four stations in Helsinki (summer 2017). Amounts are hourly averages.\n",
    "\n",
    "[This file](https://student.labranet.jamk.fi/~varpha/data_analytics/exrc03p01_weather.csv) has hourly weather observations from Helsinki from same period.\n",
    "\n",
    "Load both files as DataFrames and combine the DataFrames so that the corresponding hours are at the same rows.\n",
    "\n",
    "Any hour that are in either of the files should be included (the bicycle file misses some hours). Remove any overlapping columns.\n",
    "\n",
    "Finally, give the [correlation coefficient](https://pandas.pydata.org/pandas-docs/stable/reference/api/pandas.Series.corr.html) between the temperature and the number of available bicycles at the Sammonpuistikko station. Visualize with a scatterplot.\n"
   ]
  },
  {
   "cell_type": "code",
   "execution_count": null,
   "id": "4b189242",
   "metadata": {},
   "outputs": [],
   "source": []
  },
  {
   "cell_type": "markdown",
   "id": "4c84f383-afa6-4e7f-8a14-69de67de8311",
   "metadata": {},
   "source": [
    "\n",
    "## Problem 5. Gitlab (part 2/2)\n",
    "\n",
    "Your task is to explore what kind of data is freely available for you in the LabraNet GitLab, and then clearly summarize / visualize the results.\n",
    "\n",
    "**Please note:** Again, this problem is supposed to be hard. Harri doesn't know the answers in advance. Please do your best in trying to help Harri to better understand the GitLab data available for anyone with a user account.\n",
    "\n",
    "### a) Initial instructions\n",
    "\n",
    "Create a personal GitLab access token: `Click avatar --> Preferences --> User Settings sidebar --> Access Tokens --> Add new token`\n",
    "\n",
    "  + Freely choose the name for the token (e.g. *dan fall 25*, it's for you only).\n",
    "  + The same goes for the expiration date (one can always delete old tokens and create new ones if needed).\n",
    "\n",
    "Choose the `api` scope (the topmost one).\n",
    "\n",
    "Create the token and save it for yourself. Do not share your token to anyone (including Harri)!\n",
    "\n",
    "### b) Test code\n",
    "\n",
    "Below is a code snippet that should work for you too. The API documentation is [here](https://python-gitlab.readthedocs.io). See especially the [Getting Started with the API](https://python-gitlab.readthedocs.io/en/stable/api-usage.html) and [API Examples](https://python-gitlab.readthedocs.io/en/stable/api-objects.html) sections.\n",
    "\n",
    "```python\n",
    "\n",
    "'''\n",
    "- initiate a gitlab api instance\n",
    "- having the token hard-coded is a bad habit, please don't include in your handin\n",
    "- see <tt>public/exrc_03/exrc_03_theory.ipynb</tt> for a better way\n",
    "\n",
    "'''\n",
    "\n",
    "# run config so that you have python-gitlab installed\n",
    "import gitlab\n",
    "\n",
    "gl = gitlab.Gitlab(\n",
    "    'https://gitlab.labranet.jamk.fi',\n",
    "    private_token='COPY_YOUR_PRIVATE_TOKEN_HERE'\n",
    ")\n",
    "\n",
    "# authenticate\n",
    "gl.auth()\n",
    "\n",
    "# get some of the projects available to you\n",
    "projects = gl.projects.list()\n",
    "\n",
    "# (to get all the projects, see documentation)\n",
    "\n",
    "# print the results\n",
    "for project in projects:\n",
    "    print(project)\n",
    "```\n",
    "\n",
    "### c) Exercise template (AI-generated & modified):\n",
    "\n",
    "1. **Setup and Authentication**:\n",
    "\n",
    "- Use python-gitlab to connect to the GitLab instance.\n",
    "- Ensure you have a personal access token for accessing public data.\n",
    "\n",
    "2. **Data Collection**:\n",
    "\n",
    "- Use the python-gitlab API to fetch e.g.:\n",
    "\n",
    "  - List of public projects and their details.\n",
    "  - Public groups and user information.\n",
    "\n",
    "3. **Data Preparation**:\n",
    "\n",
    "- Use pandas to organize the data into DataFrames.\n",
    "- Clean and preprocess the data (handle missing values, parse dates, etc.).\n",
    "\n",
    "4. **Exploratory Data Analysis (EDA)**:\n",
    "\n",
    "- Analyze the distribution of projects, contributions, and group memberships.\n",
    "- Identify the most popular projects based on stars and forks.\n",
    "\n",
    "5. **Visualization**:\n",
    "\n",
    "- Use matplotlib or seaborn to create visualizations:\n",
    "  - Histograms of project counts, star counts, and forks.\n",
    "  - Analysis of user activity (commits, issues, etc.).\n",
    "\n",
    "6. **Insights and Conclusion**:\n",
    "\n",
    "- Summarize your findings.\n",
    "- Discuss any interesting trends or outliers observed in the data.\n",
    "\n"
   ]
  }
 ],
 "metadata": {
  "kernelspec": {
   "display_name": "Python 3 (ipykernel)",
   "language": "python",
   "name": "python3"
  },
  "language_info": {
   "codemirror_mode": {
    "name": "ipython",
    "version": 3
   },
   "file_extension": ".py",
   "mimetype": "text/x-python",
   "name": "python",
   "nbconvert_exporter": "python",
   "pygments_lexer": "ipython3",
   "version": "3.9.20"
  },
  "toc-autonumbering": false,
  "toc-showcode": false,
  "toc-showmarkdowntxt": false
 },
 "nbformat": 4,
 "nbformat_minor": 5
}
