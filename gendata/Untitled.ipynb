{
 "cells": [
  {
   "cell_type": "code",
   "execution_count": 1,
   "id": "762d8c5c-6168-4d0d-b8c3-a16ce4919530",
   "metadata": {},
   "outputs": [
    {
     "ename": "ModuleNotFoundError",
     "evalue": "No module named 'faker'",
     "output_type": "error",
     "traceback": [
      "\u001b[0;31m---------------------------------------------------------------------------\u001b[0m",
      "\u001b[0;31mModuleNotFoundError\u001b[0m                       Traceback (most recent call last)",
      "Cell \u001b[0;32mIn[1], line 1\u001b[0m\n\u001b[0;32m----> 1\u001b[0m \u001b[38;5;28;01mfrom\u001b[39;00m\u001b[38;5;250m \u001b[39m\u001b[38;5;21;01mfaker\u001b[39;00m\u001b[38;5;250m \u001b[39m\u001b[38;5;28;01mimport\u001b[39;00m Faker\n\u001b[1;32m      3\u001b[0m fake \u001b[38;5;241m=\u001b[39m Faker()\n\u001b[1;32m      5\u001b[0m \u001b[38;5;66;03m# Generate a random name, address, email, etc.\u001b[39;00m\n",
      "\u001b[0;31mModuleNotFoundError\u001b[0m: No module named 'faker'"
     ]
    }
   ],
   "source": [
    "from faker import Faker\n",
    "\n",
    "fake = Faker()\n",
    "\n",
    "# Generate a random name, address, email, etc.\n",
    "random_name = fake.name()\n",
    "random_email = fake.email()\n",
    "random_address = fake.address()\n",
    "\n",
    "print(random_name, random_email, random_address)"
   ]
  },
  {
   "cell_type": "code",
   "execution_count": null,
   "id": "448f1f83-a547-4a22-8f84-1ca294b236fd",
   "metadata": {},
   "outputs": [],
   "source": []
  }
 ],
 "metadata": {
  "kernelspec": {
   "display_name": "Python 3 (ipykernel)",
   "language": "python",
   "name": "python3"
  },
  "language_info": {
   "codemirror_mode": {
    "name": "ipython",
    "version": 3
   },
   "file_extension": ".py",
   "mimetype": "text/x-python",
   "name": "python",
   "nbconvert_exporter": "python",
   "pygments_lexer": "ipython3",
   "version": "3.12.8"
  }
 },
 "nbformat": 4,
 "nbformat_minor": 5
}
